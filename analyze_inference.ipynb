{
 "cells": [
  {
   "cell_type": "code",
   "execution_count": 1,
   "metadata": {},
   "outputs": [],
   "source": [
    "import numpy as np\n",
    "import pandas as pd\n",
    "import matplotlib.pylab as plt\n",
    "import os\n",
    "import torch\n",
    "import seaborn as sns\n",
    "import copy"
   ]
  },
  {
   "cell_type": "code",
   "execution_count": 2,
   "metadata": {},
   "outputs": [
    {
     "name": "stdout",
     "output_type": "stream",
     "text": [
      "Running on device cpu\n",
      "torch threads 1\n"
     ]
    }
   ],
   "source": [
    "import sys\n",
    "sys.path.append('code/BalancingControl')\n",
    "import tmaze_utils as tu\n",
    "import inference_utils as iu\n",
    "import inference as inf\n",
    "\n",
    "import misc"
   ]
  },
  {
   "cell_type": "code",
   "execution_count": 3,
   "metadata": {},
   "outputs": [],
   "source": [
    "groups = [\"control\", \"exposed\"]\n",
    "\n",
    "agents = [\"BCC_2param_\", \"BCC_context_obs_2param_\"]"
   ]
  },
  {
   "cell_type": "code",
   "execution_count": 4,
   "metadata": {},
   "outputs": [
    {
     "name": "stdout",
     "output_type": "stream",
     "text": [
      "/home/sarah/src/TMaze/results/inference\n"
     ]
    }
   ],
   "source": [
    "results_dir = os.path.abspath('results')\n",
    "inference_folder = os.path.join(results_dir, \"inference\")\n",
    "print(inference_folder)"
   ]
  },
  {
   "cell_type": "code",
   "execution_count": 12,
   "metadata": {},
   "outputs": [
    {
     "name": "stdout",
     "output_type": "stream",
     "text": [
      "BCC_2param_control\n",
      "BCC_context_obs_2param_control\n",
      "BCC_2param_exposed\n",
      "BCC_context_obs_2param_exposed\n"
     ]
    }
   ],
   "source": [
    "results = {}\n",
    "data = {}\n",
    "num_steps = 400\n",
    "\n",
    "for grp in groups:\n",
    "    base_dir = \"processed_data\"\n",
    "    fname_data = os.path.join(base_dir, f\"TMaze_{grp}_structured_data_context.json\")\n",
    "    structured_data = misc.load_file(fname_data, fname_data)\n",
    "    data[grp] = structured_data\n",
    "    for agt in agents:\n",
    "        fname_base = agt+grp+\"_inference_\"\n",
    "        fname_str = fname_base + str(num_steps)+'_'+str(7)+'agents'\n",
    "        # define folder where we want to save data\n",
    "        base_dir = os.path.join(inference_folder,fname_base[:-1])\n",
    "        mean_df, sample_df, locs_df = iu.load_samples(base_dir, fname_str) \n",
    "        print(f\"{agt}{grp}\")\n",
    "        results[f\"{agt}{grp}\"] = {}\n",
    "        results[f\"{agt}{grp}\"][\"mean_df\"] = mean_df\n",
    "        results[f\"{agt}{grp}\"][\"sample_df\"] = sample_df\n",
    "        results[f\"{agt}{grp}\"][\"locs_df\"] = locs_df"
   ]
  },
  {
   "cell_type": "code",
   "execution_count": 6,
   "metadata": {},
   "outputs": [],
   "source": [
    "base_dir = \"processed_data\"\n",
    "fname_plot_df = os.path.join(base_dir, \"plot_df.csv\")\n",
    "plot_df = pd.read_csv(fname_plot_df)"
   ]
  },
  {
   "cell_type": "code",
   "execution_count": 7,
   "metadata": {},
   "outputs": [
    {
     "data": {
      "text/plain": [
       "50      1.0\n",
       "51      0.0\n",
       "52      0.0\n",
       "53      0.0\n",
       "54      0.0\n",
       "       ... \n",
       "1480    0.0\n",
       "1481    1.0\n",
       "1482    0.0\n",
       "1483    1.0\n",
       "1484    1.0\n",
       "Name: correct, Length: 70, dtype: float64"
      ]
     },
     "execution_count": 7,
     "metadata": {},
     "output_type": "execute_result"
    }
   ],
   "source": [
    "plot_df[\"correct\"][plot_df[\"trial_type\"]==\"early test\"]"
   ]
  },
  {
   "cell_type": "code",
   "execution_count": 8,
   "metadata": {},
   "outputs": [
    {
     "data": {
      "text/plain": [
       "animal  group  \n",
       "1.0     control    0.2\n",
       "2.0     control    0.4\n",
       "3.0     control    0.2\n",
       "4.0     control    0.4\n",
       "5.0     control    0.6\n",
       "6.0     control    0.4\n",
       "7.0     control    0.6\n",
       "10.0    exposed    0.6\n",
       "11.0    exposed    0.4\n",
       "12.0    exposed    0.2\n",
       "13.0    exposed    0.4\n",
       "14.0    exposed    0.6\n",
       "15.0    exposed    0.6\n",
       "16.0    exposed    0.6\n",
       "Name: correct, dtype: float64"
      ]
     },
     "execution_count": 8,
     "metadata": {},
     "output_type": "execute_result"
    }
   ],
   "source": [
    "plot_df[plot_df[\"trial_type\"]==\"early test\"].groupby([\"animal\", \"group\"])[\"correct\"].mean()"
   ]
  },
  {
   "cell_type": "code",
   "execution_count": 9,
   "metadata": {},
   "outputs": [
    {
     "data": {
      "text/plain": [
       "animal  group  \n",
       "1.0     control    0.8\n",
       "2.0     control    0.8\n",
       "3.0     control    0.8\n",
       "4.0     control    0.4\n",
       "5.0     control    0.6\n",
       "6.0     control    0.8\n",
       "7.0     control    0.8\n",
       "10.0    exposed    0.8\n",
       "11.0    exposed    0.4\n",
       "12.0    exposed    0.6\n",
       "13.0    exposed    0.6\n",
       "14.0    exposed    0.4\n",
       "15.0    exposed    0.4\n",
       "16.0    exposed    0.2\n",
       "Name: correct, dtype: float64"
      ]
     },
     "execution_count": 9,
     "metadata": {},
     "output_type": "execute_result"
    }
   ],
   "source": [
    "plot_df[plot_df[\"trial_type\"]==\"late test\"].groupby([\"animal\", \"group\"])[\"correct\"].mean()"
   ]
  },
  {
   "cell_type": "code",
   "execution_count": 13,
   "metadata": {},
   "outputs": [
    {
     "data": {
      "text/plain": [
       "{'mean_df':    Unnamed: 0  inferred dec temp  subject  inferred habitual tendency\n",
       " 0           0           1.068921        0                    3.868470\n",
       " 1           1           0.682863        1                    2.978298\n",
       " 2           2           0.788679        2                    2.391287\n",
       " 3           3           0.893360        3                    2.911467\n",
       " 4           4           0.594853        4                    2.268394\n",
       " 5           5           0.549614        5                    2.399441\n",
       " 6           6           0.405365        6                    2.724437,\n",
       " 'sample_df':       Unnamed: 0  dec temp  habitual tendency  subject\n",
       " 0              0  1.238106           6.253656        0\n",
       " 1              1  0.430554           2.353396        1\n",
       " 2              2  0.830417           1.948180        2\n",
       " 3              3  1.127694           1.319998        3\n",
       " 4              4  1.128127           1.110601        4\n",
       " ...          ...       ...                ...      ...\n",
       " 3495        3495  0.750117           2.184425        2\n",
       " 3496        3496  1.258534           0.823381        3\n",
       " 3497        3497  0.400309           3.827741        4\n",
       " 3498        3498  0.787754           1.346745        5\n",
       " 3499        3499  0.618526           2.048577        6\n",
       " \n",
       " [3500 rows x 4 columns],\n",
       " 'locs_df':       Unnamed: 0     locs0     locs1  subject\n",
       " 0              0 -1.956829  0.512386        0\n",
       " 1              1 -3.101259 -1.178402        1\n",
       " 2              2 -2.401719 -1.419003        2\n",
       " 3              3 -2.062760 -1.883391        3\n",
       " 4              4 -2.062328 -2.079958        4\n",
       " ...          ...       ...       ...      ...\n",
       " 3495        3495 -2.512137 -1.274766        2\n",
       " 3496        3496 -1.938130 -2.410995        3\n",
       " 3497        3497 -3.177250 -0.477790        4\n",
       " 3498        3498 -2.459103 -1.860245        5\n",
       " 3499        3499 -2.719153 -1.356206        6\n",
       " \n",
       " [3500 rows x 4 columns]}"
      ]
     },
     "execution_count": 13,
     "metadata": {},
     "output_type": "execute_result"
    }
   ],
   "source": [
    "results[\"BCC_2param_exposed\"]"
   ]
  },
  {
   "cell_type": "code",
   "execution_count": 23,
   "metadata": {},
   "outputs": [],
   "source": [
    "exposed_early_accuracy = plot_df[plot_df[\"trial_type\"]==\"early test\"][plot_df[\"group\"]==\"exposed\"].groupby([\"animal\"])[\"correct\"].mean().values\n",
    "exposed_late_accuracy = plot_df[plot_df[\"trial_type\"]==\"late test\"][plot_df[\"group\"]==\"exposed\"].groupby([\"animal\"])[\"correct\"].mean().values\n",
    "\n",
    "exposed_dec_temp = results[\"BCC_2param_exposed\"][\"mean_df\"][\"inferred dec temp\"]\n",
    "exposed_hab_tend = results[\"BCC_2param_exposed\"][\"mean_df\"][\"inferred habitual tendency\"]"
   ]
  },
  {
   "cell_type": "code",
   "execution_count": 25,
   "metadata": {},
   "outputs": [],
   "source": [
    "exposed_dict = {\"early acc\": exposed_early_accuracy, \"late acc\": exposed_late_accuracy, \"dec temp\": exposed_dec_temp, \"hab tend\": exposed_hab_tend}\n",
    "\n",
    "exposed_df = pd.DataFrame(exposed_dict)"
   ]
  },
  {
   "cell_type": "code",
   "execution_count": 26,
   "metadata": {},
   "outputs": [
    {
     "data": {
      "text/html": [
       "<div>\n",
       "<style scoped>\n",
       "    .dataframe tbody tr th:only-of-type {\n",
       "        vertical-align: middle;\n",
       "    }\n",
       "\n",
       "    .dataframe tbody tr th {\n",
       "        vertical-align: top;\n",
       "    }\n",
       "\n",
       "    .dataframe thead th {\n",
       "        text-align: right;\n",
       "    }\n",
       "</style>\n",
       "<table border=\"1\" class=\"dataframe\">\n",
       "  <thead>\n",
       "    <tr style=\"text-align: right;\">\n",
       "      <th></th>\n",
       "      <th>early acc</th>\n",
       "      <th>late acc</th>\n",
       "      <th>dec temp</th>\n",
       "      <th>hab tend</th>\n",
       "    </tr>\n",
       "  </thead>\n",
       "  <tbody>\n",
       "    <tr>\n",
       "      <th>early acc</th>\n",
       "      <td>1.000000</td>\n",
       "      <td>-0.279078</td>\n",
       "      <td>-0.289129</td>\n",
       "      <td>0.191145</td>\n",
       "    </tr>\n",
       "    <tr>\n",
       "      <th>late acc</th>\n",
       "      <td>-0.279078</td>\n",
       "      <td>1.000000</td>\n",
       "      <td>0.974761</td>\n",
       "      <td>0.604768</td>\n",
       "    </tr>\n",
       "    <tr>\n",
       "      <th>dec temp</th>\n",
       "      <td>-0.289129</td>\n",
       "      <td>0.974761</td>\n",
       "      <td>1.000000</td>\n",
       "      <td>0.700000</td>\n",
       "    </tr>\n",
       "    <tr>\n",
       "      <th>hab tend</th>\n",
       "      <td>0.191145</td>\n",
       "      <td>0.604768</td>\n",
       "      <td>0.700000</td>\n",
       "      <td>1.000000</td>\n",
       "    </tr>\n",
       "  </tbody>\n",
       "</table>\n",
       "</div>"
      ],
      "text/plain": [
       "           early acc  late acc  dec temp  hab tend\n",
       "early acc   1.000000 -0.279078 -0.289129  0.191145\n",
       "late acc   -0.279078  1.000000  0.974761  0.604768\n",
       "dec temp   -0.289129  0.974761  1.000000  0.700000\n",
       "hab tend    0.191145  0.604768  0.700000  1.000000"
      ]
     },
     "execution_count": 26,
     "metadata": {},
     "output_type": "execute_result"
    }
   ],
   "source": [
    "exposed_df.corr()"
   ]
  },
  {
   "cell_type": "code",
   "execution_count": 27,
   "metadata": {},
   "outputs": [
    {
     "name": "stderr",
     "output_type": "stream",
     "text": [
      "/tmp/ipykernel_8371/306163813.py:1: UserWarning: Boolean Series key will be reindexed to match DataFrame index.\n",
      "  control_early_accuracy = plot_df[plot_df[\"trial_type\"]==\"early test\"][plot_df[\"group\"]==\"control\"].groupby([\"animal\"])[\"correct\"].mean().values\n",
      "/tmp/ipykernel_8371/306163813.py:2: UserWarning: Boolean Series key will be reindexed to match DataFrame index.\n",
      "  control_late_accuracy = plot_df[plot_df[\"trial_type\"]==\"late test\"][plot_df[\"group\"]==\"control\"].groupby([\"animal\"])[\"correct\"].mean().values\n"
     ]
    }
   ],
   "source": [
    "control_early_accuracy = plot_df[plot_df[\"trial_type\"]==\"early test\"][plot_df[\"group\"]==\"control\"].groupby([\"animal\"])[\"correct\"].mean().values\n",
    "control_late_accuracy = plot_df[plot_df[\"trial_type\"]==\"late test\"][plot_df[\"group\"]==\"control\"].groupby([\"animal\"])[\"correct\"].mean().values\n",
    "\n",
    "control_dec_temp = results[\"BCC_2param_control\"][\"mean_df\"][\"inferred dec temp\"]\n",
    "control_hab_tend = results[\"BCC_2param_control\"][\"mean_df\"][\"inferred habitual tendency\"]"
   ]
  },
  {
   "cell_type": "code",
   "execution_count": 28,
   "metadata": {},
   "outputs": [],
   "source": [
    "control_dict = {\"early acc\": control_early_accuracy, \"late acc\": control_late_accuracy, \"dec temp\": control_dec_temp, \"hab tend\": control_hab_tend}\n",
    "\n",
    "control_df = pd.DataFrame(control_dict)"
   ]
  },
  {
   "cell_type": "code",
   "execution_count": 29,
   "metadata": {},
   "outputs": [
    {
     "data": {
      "text/html": [
       "<div>\n",
       "<style scoped>\n",
       "    .dataframe tbody tr th:only-of-type {\n",
       "        vertical-align: middle;\n",
       "    }\n",
       "\n",
       "    .dataframe tbody tr th {\n",
       "        vertical-align: top;\n",
       "    }\n",
       "\n",
       "    .dataframe thead th {\n",
       "        text-align: right;\n",
       "    }\n",
       "</style>\n",
       "<table border=\"1\" class=\"dataframe\">\n",
       "  <thead>\n",
       "    <tr style=\"text-align: right;\">\n",
       "      <th></th>\n",
       "      <th>early acc</th>\n",
       "      <th>late acc</th>\n",
       "      <th>dec temp</th>\n",
       "      <th>hab tend</th>\n",
       "    </tr>\n",
       "  </thead>\n",
       "  <tbody>\n",
       "    <tr>\n",
       "      <th>early acc</th>\n",
       "      <td>1.000000</td>\n",
       "      <td>-0.259437</td>\n",
       "      <td>0.851788</td>\n",
       "      <td>-0.480655</td>\n",
       "    </tr>\n",
       "    <tr>\n",
       "      <th>late acc</th>\n",
       "      <td>-0.259437</td>\n",
       "      <td>1.000000</td>\n",
       "      <td>-0.402708</td>\n",
       "      <td>0.162559</td>\n",
       "    </tr>\n",
       "    <tr>\n",
       "      <th>dec temp</th>\n",
       "      <td>0.851788</td>\n",
       "      <td>-0.402708</td>\n",
       "      <td>1.000000</td>\n",
       "      <td>-0.288498</td>\n",
       "    </tr>\n",
       "    <tr>\n",
       "      <th>hab tend</th>\n",
       "      <td>-0.480655</td>\n",
       "      <td>0.162559</td>\n",
       "      <td>-0.288498</td>\n",
       "      <td>1.000000</td>\n",
       "    </tr>\n",
       "  </tbody>\n",
       "</table>\n",
       "</div>"
      ],
      "text/plain": [
       "           early acc  late acc  dec temp  hab tend\n",
       "early acc   1.000000 -0.259437  0.851788 -0.480655\n",
       "late acc   -0.259437  1.000000 -0.402708  0.162559\n",
       "dec temp    0.851788 -0.402708  1.000000 -0.288498\n",
       "hab tend   -0.480655  0.162559 -0.288498  1.000000"
      ]
     },
     "execution_count": 29,
     "metadata": {},
     "output_type": "execute_result"
    }
   ],
   "source": [
    "control_df.corr()"
   ]
  },
  {
   "cell_type": "code",
   "execution_count": null,
   "metadata": {},
   "outputs": [],
   "source": []
  }
 ],
 "metadata": {
  "kernelspec": {
   "display_name": "pyro",
   "language": "python",
   "name": "python3"
  },
  "language_info": {
   "codemirror_mode": {
    "name": "ipython",
    "version": 3
   },
   "file_extension": ".py",
   "mimetype": "text/x-python",
   "name": "python",
   "nbconvert_exporter": "python",
   "pygments_lexer": "ipython3",
   "version": "3.10.13"
  }
 },
 "nbformat": 4,
 "nbformat_minor": 2
}
