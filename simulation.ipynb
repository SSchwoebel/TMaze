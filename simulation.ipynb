{
 "cells": [
  {
   "cell_type": "code",
   "execution_count": 1,
   "metadata": {},
   "outputs": [],
   "source": [
    "import numpy as np\n",
    "import matplotlib.pylab as plt\n",
    "import seaborn as sns\n",
    "import itertools"
   ]
  },
  {
   "cell_type": "code",
   "execution_count": 2,
   "metadata": {},
   "outputs": [
    {
     "name": "stdout",
     "output_type": "stream",
     "text": [
      "Running on device cpu\n",
      "torch threads 1\n"
     ]
    }
   ],
   "source": [
    "import sys\n",
    "sys.path.append('code/BalancingControl')\n",
    "\n",
    "import tmaze_utils as tu\n",
    "import inference_utils as iu\n",
    "import inference as inf\n",
    "\n",
    "import action_selection as asl\n",
    "import agent as agt\n",
    "import perception as prc\n",
    "import environment as env\n",
    "import world as wld\n",
    "import action_selection as asl\n",
    "import misc"
   ]
  },
  {
   "cell_type": "code",
   "execution_count": 3,
   "metadata": {},
   "outputs": [],
   "source": [
    "pars = {}\n",
    "# three states\n",
    "ns = 3\n",
    "# three rewards\n",
    "nr = 3\n",
    "# two actions\n",
    "na = 2\n",
    "# two contexts (corresponding to training and test)\n",
    "nc = 2\n",
    "# each session has two time steps: before and after the choice\n",
    "T = 2\n",
    "\n",
    "generative_model_states = np.zeros((ns, ns, na))\n",
    "# state 0 is middle starting point\n",
    "prior_states = np.array([1., 0., 0.])\n",
    "# state 1 is left arm\n",
    "# state 2 is right arm\n",
    "# action 0 goes to left arm (state 1)\n",
    "# action 1 goes to right arm (state 2)\n",
    "# from the arms actions dont matter but for completeness they lead back to the middle\n",
    "generative_model_states[...,0] = [[0., 1., 1.],\n",
    "                                  [1., 0., 0.],\n",
    "                                  [0., 0., 0.]]\n",
    "generative_model_states[...,1] = [[0., 1., 1.],\n",
    "                                  [0., 0., 0.],\n",
    "                                  [1., 0., 0.]]\n",
    "\n",
    "# reward 0 is bad outcome\n",
    "# reward 1 is nothing (middle starting point)\n",
    "# reward 2 is good outcome\n",
    "prior_rewards = np.array([0.01, 0.14, 0.85])\n",
    "\n",
    "# environment rules\n",
    "# right arm gives reward during training, left arm gives nothing, and switches for the test\n",
    "# we set 200 trials as the maximum possible (however training stops after criterion is reached)\n",
    "training_trials = 200\n",
    "# after training comes test\n",
    "test_trials = 50\n",
    "# set outcome rules\n",
    "generative_process_rewards = np.zeros((training_trials+test_trials,nr,ns))\n",
    "# state 0 gives non-reward\n",
    "# state 1 gives bad outcome during training\n",
    "# state 2 gives reward during training\n",
    "generative_process_rewards[:training_trials] = np.array([[0., 1., 0.],\n",
    "                                                         [1., 0., 0.],\n",
    "                                                         [0., 0., 1.]])[None,...]\n",
    "# state 1 gives reward turing test\n",
    "# state 2 gives bad outcome during test\n",
    "generative_process_rewards[training_trials:] = np.array([[0., 0., 1.],\n",
    "                                                         [1., 0., 0.],\n",
    "                                                         [0., 1., 0.]])[None,...]\n",
    "\n",
    "# lastly, set up dummy observation model: states are fully observable\n",
    "generative_model_observations = np.eye(ns)"
   ]
  },
  {
   "cell_type": "code",
   "execution_count": 4,
   "metadata": {},
   "outputs": [],
   "source": [
    "pars[\"nm\"] = ns\n",
    "pars[\"nh\"] = ns\n",
    "pars[\"nr\"] = nr\n",
    "pars[\"na\"] = na\n",
    "pars[\"nc\"] = nc\n",
    "pars[\"trials\"] = training_trials+test_trials\n",
    "pars[\"T\"] = T\n",
    "\n",
    "pars[\"generative_model_states\"] = generative_model_states\n",
    "pars[\"generative_model_observations\"] = generative_model_observations"
   ]
  },
  {
   "cell_type": "code",
   "execution_count": 5,
   "metadata": {},
   "outputs": [],
   "source": [
    "env_pars = pars.copy()\n",
    "env_pars[\"generative_process_rewards\"] = generative_process_rewards"
   ]
  },
  {
   "cell_type": "code",
   "execution_count": 6,
   "metadata": {},
   "outputs": [],
   "source": [
    "TMaze_environment = tu.set_up_TMaze(env_pars)"
   ]
  },
  {
   "cell_type": "code",
   "execution_count": 7,
   "metadata": {},
   "outputs": [],
   "source": [
    "# agent inits\n",
    "\n",
    "# init reward counts\n",
    "reward_counts = np.ones((nr,ns,nc))#+10\n",
    "\n",
    "# context transition matrix with self transition context stability bias.\n",
    "self_transition_bias = 0.45\n",
    "context_transition_matrix = np.array([[0.5+self_transition_bias, 0.5-self_transition_bias],\n",
    "                                      [0.5-self_transition_bias, 0.5+self_transition_bias]])\n",
    "\n",
    "# start in one context\n",
    "prior_context = np.array([1., 0.])\n",
    "\n",
    "# there are only two policies, one with action 0 and one with action 1\n",
    "policies = np.array([[0], [1]])\n",
    "npi = 2"
   ]
  },
  {
   "cell_type": "code",
   "execution_count": 8,
   "metadata": {},
   "outputs": [],
   "source": [
    "strong_habit_count = 1\n",
    "weak_habit_count = 1000"
   ]
  },
  {
   "cell_type": "code",
   "execution_count": 9,
   "metadata": {},
   "outputs": [],
   "source": [
    "pars[\"npi\"] = npi\n",
    "pars[\"transition_matrix_context\"] = context_transition_matrix\n",
    "\n",
    "pars[\"prior_states\"] = prior_states\n",
    "pars[\"prior_rewards\"] = prior_rewards\n",
    "pars[\"prior_context\"] = prior_context\n",
    "\n",
    "pars[\"all_policies\"] = policies\n",
    "\n",
    "pars[\"dirichlet_rew_params\"] = reward_counts"
   ]
  },
  {
   "cell_type": "code",
   "execution_count": 10,
   "metadata": {},
   "outputs": [],
   "source": [
    "# extra agent parameters\n",
    "\n",
    "pars[\"learn_habit\"] = True\n",
    "pars[\"learn_rew\"] = True\n",
    "pars[\"infer_context\"] = True\n",
    "pars[\"dec_temp\"] = 1.\n",
    "pars[\"store_internal_variables\"] = True\n",
    "\n",
    "# and things we are not doing:\n",
    "pars[\"learn_context_obs\"] = False\n",
    "pars[\"mask\"] = None\n",
    "pars[\"hidden_state_mapping\"] = False\n",
    "pars[\"use_h\"] = False\n",
    "pars[\"forgetting_rate_pol\"] = 0.\n",
    "pars[\"forgetting_rate_rew\"] = 0.\n",
    "pars[\"infer_alpha_0\"] = False\n",
    "pars[\"infer_decision_temp\"] = False\n",
    "pars[\"infer_policy_rate\"] = False\n",
    "pars[\"infer_reward_rate\"] = False\n",
    "pars[\"dirichlet_context_obs_params\"] = np.ones((nc, nc))"
   ]
  },
  {
   "cell_type": "code",
   "execution_count": 11,
   "metadata": {},
   "outputs": [
    {
     "name": "stdout",
     "output_type": "stream",
     "text": [
      "0\n"
     ]
    },
    {
     "name": "stderr",
     "output_type": "stream",
     "text": [
      "/home/sarah/src/TMaze/code/BalancingControl/perception.py:630: UserWarning: The use of `x.T` on tensors of dimension other than 2 to reverse their shape is deprecated and it will throw an error in a future release. Consider `x.mT` to transpose batches of matrices or `x.permute(*torch.arange(x.ndim - 1, -1, -1))` to reverse the dimensions of a tensor. (Triggered internally at /croot/pytorch-select_1707782759820/work/aten/src/ATen/native/TensorShape.cpp:3637.)\n",
      "  self.big_trans_matrix = ar.stack([ar.stack([generative_model_states[:,:,policies[pi,t]] for pi in range(self.npi)]) for t in range(self.T-1)]).T.to(device)\n"
     ]
    }
   ],
   "source": [
    "strong_pars = pars.copy()\n",
    "strong_pars[\"alpha_0\"] = strong_habit_count\n",
    "strong_agent, strong_perception = tu.set_up_Bayesian_agent(strong_pars)"
   ]
  },
  {
   "cell_type": "code",
   "execution_count": 12,
   "metadata": {},
   "outputs": [],
   "source": [
    "w_strong = wld.GroupWorld(TMaze_environment, strong_agent, trials = training_trials+test_trials, T = T)\n",
    "\n",
    "\"\"\"\n",
    "simulate experiment\n",
    "\"\"\"\n",
    "\n",
    "w_strong.simulate_experiment(range(training_trials+test_trials))"
   ]
  },
  {
   "cell_type": "code",
   "execution_count": 13,
   "metadata": {},
   "outputs": [
    {
     "data": {
      "image/png": "[encoded data removed]",
      "text/plain": [
       "<Figure size 640x480 with 1 Axes>"
      ]
     },
     "metadata": {},
     "output_type": "display_data"
    }
   ],
   "source": [
    "plt.figure()\n",
    "plt.plot(w_strong.agent.perception.actions_structured[:,1], '.')\n",
    "plt.show()"
   ]
  },
  {
   "cell_type": "code",
   "execution_count": null,
   "metadata": {},
   "outputs": [],
   "source": []
  },
  {
   "cell_type": "code",
   "execution_count": 14,
   "metadata": {},
   "outputs": [
    {
     "name": "stdout",
     "output_type": "stream",
     "text": [
      "0\n"
     ]
    }
   ],
   "source": [
    "weak_pars = pars.copy()\n",
    "weak_pars[\"alpha_0\"] = weak_habit_count\n",
    "weak_agent, weak_perception = tu.set_up_Bayesian_agent(weak_pars)"
   ]
  },
  {
   "cell_type": "code",
   "execution_count": 15,
   "metadata": {},
   "outputs": [],
   "source": [
    "w_strong = wld.GroupWorld(TMaze_environment, weak_agent, trials = training_trials+test_trials, T = T)\n",
    "\n",
    "\"\"\"\n",
    "simulate experiment\n",
    "\"\"\"\n",
    "\n",
    "w_strong.simulate_experiment(range(training_trials+test_trials))"
   ]
  },
  {
   "cell_type": "code",
   "execution_count": 16,
   "metadata": {},
   "outputs": [
    {
     "data": {
      "image/png": "[encoded data removed]",
      "text/plain": [
       "<Figure size 640x480 with 1 Axes>"
      ]
     },
     "metadata": {},
     "output_type": "display_data"
    }
   ],
   "source": [
    "plt.figure()\n",
    "plt.plot(w_strong.agent.perception.actions_structured[:,1], '.')\n",
    "plt.show()"
   ]
  },
  {
   "cell_type": "code",
   "execution_count": null,
   "metadata": {},
   "outputs": [],
   "source": []
  }
 ],
 "metadata": {
  "kernelspec": {
   "display_name": "two_stage",
   "language": "python",
   "name": "python3"
  },
  "language_info": {
   "codemirror_mode": {
    "name": "ipython",
    "version": 3
   },
   "file_extension": ".py",
   "mimetype": "text/x-python",
   "name": "python",
   "nbconvert_exporter": "python",
   "pygments_lexer": "ipython3",
   "version": "3.11.6"
  }
 },
 "nbformat": 4,
 "nbformat_minor": 2
}
